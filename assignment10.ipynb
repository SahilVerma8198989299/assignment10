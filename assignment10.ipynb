{
 "cells": [
  {
   "cell_type": "markdown",
   "id": "4794cb5e-b6fa-4e6f-81cb-2839462544e3",
   "metadata": {},
   "source": [
    "Q.1 what is multithreading in python? why is it used? Name the module used to handle threads in python"
   ]
  },
  {
   "cell_type": "markdown",
   "id": "9b6e0e31-6a32-4b55-8e06-8b1e8bc554e8",
   "metadata": {},
   "source": [
    "Multithreading in Python refers to the ability to run multiple threads concurrently within a single program. A thread is a sequence of instructions that can be executed independently by the CPU. Multithreading allows different parts of a program to execute concurrently, potentially improving performance and responsiveness.\n",
    "\n",
    "Multithreading is used in Python to perform concurrent and parallel processing. It is particularly useful when dealing with tasks that involve blocking operations, such as I/O operations or waiting for external resources. By running tasks concurrently, you can make better use of available resources and potentially reduce overall execution time.\n",
    "\n",
    "The primary module used to handle threads in Python is the threading module. It provides a high-level interface for creating and managing threads in Python programs. The threading module allows you to create threads, start them, and synchronize their execution using locks, events, conditions, and other synchronization primitives. It also provides mechanisms for communication and data sharing between threads.\n",
    "\n",
    "Here's a simple example that demonstrates the usage of the threading module:"
   ]
  },
  {
   "cell_type": "code",
   "execution_count": 1,
   "id": "9f460841-ff7d-4938-b05d-11515e25c9e3",
   "metadata": {},
   "outputs": [
    {
     "name": "stdout",
     "output_type": "stream",
     "text": [
      "1\n",
      "2\n",
      "3\n",
      "4\n",
      "5\n",
      "A\n",
      "B\n",
      "C\n",
      "D\n",
      "E\n"
     ]
    }
   ],
   "source": [
    "import threading\n",
    "\n",
    "def print_numbers():\n",
    "    for i in range(1, 6):\n",
    "        print(i)\n",
    "\n",
    "def print_letters():\n",
    "    for letter in 'ABCDE':\n",
    "        print(letter)\n",
    "\n",
    "# Create thread objects\n",
    "thread1 = threading.Thread(target=print_numbers)\n",
    "thread2 = threading.Thread(target=print_letters)\n",
    "\n",
    "# Start the threads\n",
    "thread1.start()\n",
    "thread2.start()\n",
    "\n",
    "# Wait for the threads to finish\n",
    "thread1.join()\n",
    "thread2.join()\n"
   ]
  },
  {
   "cell_type": "markdown",
   "id": "731c02eb-5b6c-4dca-8378-b40b7d508173",
   "metadata": {},
   "source": [
    "Q.2 why threading module used? write the use of the following functions\n",
    "\n",
    "1 activeCount()\n",
    "\n",
    "2 currentThread()\n",
    "\n",
    "3 enumerate()"
   ]
  },
  {
   "cell_type": "markdown",
   "id": "21c98580-e71d-4c53-92eb-f727649d5614",
   "metadata": {},
   "source": [
    "\n",
    "The threading module in Python is used to handle threads and facilitate concurrent programming. It provides a high-level interface for creating, managing, and synchronizing threads in Python programs. Here's a brief explanation of the use of the functions you mentioned:\n",
    "\n",
    "activeCount(): This function returns the number of Thread objects currently alive (i.e., still running or not yet terminated) in the program. It provides a count of active threads at any given moment, allowing you to monitor the number of active threads in your application. It can be useful for debugging or for ensuring that all threads have completed before proceeding further in your program.\n",
    "\n",
    "Example usage:"
   ]
  },
  {
   "cell_type": "code",
   "execution_count": 3,
   "id": "66e42b5a-acd3-4734-80bb-e96f699c1c5b",
   "metadata": {},
   "outputs": [
    {
     "name": "stdout",
     "output_type": "stream",
     "text": [
      "Thread started\n",
      "Active threads: 8\n"
     ]
    },
    {
     "name": "stderr",
     "output_type": "stream",
     "text": [
      "/tmp/ipykernel_566/1884034283.py:9: DeprecationWarning: activeCount() is deprecated, use active_count() instead\n",
      "  print(\"Active threads:\", threading.activeCount())\n"
     ]
    }
   ],
   "source": [
    "import threading\n",
    "\n",
    "def my_function():\n",
    "    print(\"Thread started\")\n",
    "\n",
    "thread1 = threading.Thread(target=my_function)\n",
    "thread1.start()\n",
    "\n",
    "print(\"Active threads:\", threading.activeCount())\n"
   ]
  },
  {
   "cell_type": "markdown",
   "id": "6f2220c5-577b-48e2-b7f8-68ed6e85521f",
   "metadata": {},
   "source": [
    "currentThread(): This function returns the Thread object corresponding to the currently executing thread. It allows you to obtain a reference to the currently executing thread, which can be useful for identifying the thread, accessing its properties, or performing thread-specific operations.\n",
    "\n",
    "Example usage:"
   ]
  },
  {
   "cell_type": "code",
   "execution_count": 4,
   "id": "9dfc09a0-2782-4001-bf67-a1fc31b5160e",
   "metadata": {},
   "outputs": [
    {
     "name": "stdout",
     "output_type": "stream",
     "text": [
      "Current thread: Thread-9 (my_function)\n"
     ]
    },
    {
     "name": "stderr",
     "output_type": "stream",
     "text": [
      "/tmp/ipykernel_566/3323192193.py:4: DeprecationWarning: currentThread() is deprecated, use current_thread() instead\n",
      "  print(\"Current thread:\", threading.currentThread().getName())\n",
      "/tmp/ipykernel_566/3323192193.py:4: DeprecationWarning: getName() is deprecated, get the name attribute instead\n",
      "  print(\"Current thread:\", threading.currentThread().getName())\n"
     ]
    }
   ],
   "source": [
    "import threading\n",
    "\n",
    "def my_function():\n",
    "    print(\"Current thread:\", threading.currentThread().getName())\n",
    "\n",
    "thread1 = threading.Thread(target=my_function)\n",
    "thread1.start()\n"
   ]
  },
  {
   "cell_type": "markdown",
   "id": "b149c0d5-85c1-4e4a-9418-44ffb3a155f3",
   "metadata": {},
   "source": [
    "enumerate(): This function returns a list of all Thread objects currently alive in the program. It provides a way to obtain references to all active threads, allowing you to iterate over them or perform operations on each thread.\n",
    "\n",
    "Example usage:"
   ]
  },
  {
   "cell_type": "code",
   "execution_count": 5,
   "id": "45fcbf43-7046-412f-947a-c3fcd8064bca",
   "metadata": {},
   "outputs": [
    {
     "name": "stdout",
     "output_type": "stream",
     "text": [
      "Thread started\n",
      "Thread started\n",
      "Total threads: 8\n"
     ]
    }
   ],
   "source": [
    "import threading\n",
    "\n",
    "def my_function():\n",
    "    print(\"Thread started\")\n",
    "\n",
    "thread1 = threading.Thread(target=my_function)\n",
    "thread2 = threading.Thread(target=my_function)\n",
    "thread1.start()\n",
    "thread2.start()\n",
    "\n",
    "threads = threading.enumerate()\n",
    "print(\"Total threads:\", len(threads))\n"
   ]
  },
  {
   "cell_type": "markdown",
   "id": "e84a9bb8-12e1-4bb1-8c14-c27efb12cc5d",
   "metadata": {},
   "source": [
    "Q.3 Explain the following functions:\n",
    "    \n",
    "run()\n",
    "\n",
    "start()\n",
    "\n",
    "join()\n",
    "\n",
    "isAlive()"
   ]
  },
  {
   "cell_type": "markdown",
   "id": "c1fed208-aca8-4ca0-b3a4-f3ac90416a80",
   "metadata": {},
   "source": [
    "run(): The run() function is not directly called by the user but is implicitly invoked when a thread's start() method is called. It represents the entry point for the thread's activity. You can override this function in a custom thread class to define the tasks that the thread will perform. By default, the run() function does nothing. It is essential to override this function and provide the desired functionality for the thread.\n",
    "\n",
    "Example usage:"
   ]
  },
  {
   "cell_type": "code",
   "execution_count": 8,
   "id": "08039a12-fd3d-4eb9-a8d8-692603153f0c",
   "metadata": {},
   "outputs": [
    {
     "name": "stdout",
     "output_type": "stream",
     "text": [
      "Thread is running\n"
     ]
    }
   ],
   "source": [
    "import threading\n",
    "\n",
    "class MyThread(threading.Thread):\n",
    "    def run(self):\n",
    "        print(\"Thread is running\")\n",
    "\n",
    "thread = MyThread()\n",
    "thread.start()\n"
   ]
  },
  {
   "cell_type": "markdown",
   "id": "fb81c6de-22e3-4ecd-9230-309ca31512ee",
   "metadata": {},
   "source": [
    "start(): The start() function is used to start a thread's execution. It creates a new thread and invokes the thread's run() method. When start() is called, the thread is placed in the active state and the system scheduler determines when the thread gets CPU time to execute. It allows multiple threads to run concurrently.\n",
    "\n",
    "Example usage:"
   ]
  },
  {
   "cell_type": "code",
   "execution_count": 9,
   "id": "2e264f8c-b1bd-42da-b669-7e53ca434c76",
   "metadata": {},
   "outputs": [
    {
     "name": "stdout",
     "output_type": "stream",
     "text": [
      "Thread is running\n"
     ]
    }
   ],
   "source": [
    "import threading\n",
    "\n",
    "def my_function():\n",
    "    print(\"Thread is running\")\n",
    "\n",
    "thread = threading.Thread(target=my_function)\n",
    "thread.start()\n"
   ]
  },
  {
   "cell_type": "markdown",
   "id": "92244d36-7fed-4eb1-b6d0-e8666c2e9f51",
   "metadata": {},
   "source": [
    "join(): The join() function is used to wait for a thread to complete its execution. It blocks the execution of the calling thread until the thread on which join() is called finishes executing. This allows you to synchronize the execution of multiple threads and ensure that certain operations happen only after a thread has completed its task.\n",
    "\n",
    "Example usage:\n",
    "\n"
   ]
  },
  {
   "cell_type": "code",
   "execution_count": 11,
   "id": "af8caabc-19d3-4890-93cf-432db86339c8",
   "metadata": {},
   "outputs": [
    {
     "name": "stdout",
     "output_type": "stream",
     "text": [
      "Thread completed\n",
      "All threads completed\n"
     ]
    }
   ],
   "source": [
    "import threading\n",
    "import time\n",
    "\n",
    "def my_function():\n",
    "    time.sleep(2)\n",
    "    print(\"Thread completed\")\n",
    "\n",
    "thread = threading.Thread(target=my_function)\n",
    "thread.start()\n",
    "thread.join()\n",
    "print(\"All threads completed\")\n",
    "\n"
   ]
  },
  {
   "cell_type": "markdown",
   "id": "46dac992-7337-4de6-9d93-b22be35e4aac",
   "metadata": {},
   "source": [
    "isAlive(): The isAlive() function is used to check if a thread is currently running or active. It returns True if the thread is alive (running or not yet terminated) and False otherwise. This function can be used to check the status of a thread and perform certain actions based on its state."
   ]
  },
  {
   "cell_type": "code",
   "execution_count": 17,
   "id": "93911399-8a61-429e-bb2d-4348e81eb0d7",
   "metadata": {},
   "outputs": [
    {
     "ename": "AttributeError",
     "evalue": "'Thread' object has no attribute 'isAlive'",
     "output_type": "error",
     "traceback": [
      "\u001b[0;31m---------------------------------------------------------------------------\u001b[0m",
      "\u001b[0;31mAttributeError\u001b[0m                            Traceback (most recent call last)",
      "Cell \u001b[0;32mIn[17], line 10\u001b[0m\n\u001b[1;32m      7\u001b[0m thread \u001b[38;5;241m=\u001b[39m threading\u001b[38;5;241m.\u001b[39mThread(target\u001b[38;5;241m=\u001b[39mmy_function)\n\u001b[1;32m      8\u001b[0m thread\u001b[38;5;241m.\u001b[39mstart()\n\u001b[0;32m---> 10\u001b[0m \u001b[38;5;28mprint\u001b[39m(\u001b[38;5;124m\"\u001b[39m\u001b[38;5;124mThread is alive:\u001b[39m\u001b[38;5;124m\"\u001b[39m, \u001b[43mthread\u001b[49m\u001b[38;5;241;43m.\u001b[39;49m\u001b[43misAlive\u001b[49m())\n\u001b[1;32m     11\u001b[0m time\u001b[38;5;241m.\u001b[39msleep(\u001b[38;5;241m3\u001b[39m)\n\u001b[1;32m     12\u001b[0m \u001b[38;5;28mprint\u001b[39m(\u001b[38;5;124m\"\u001b[39m\u001b[38;5;124mThread is alive:\u001b[39m\u001b[38;5;124m\"\u001b[39m, thread\u001b[38;5;241m.\u001b[39misAlive())\n",
      "\u001b[0;31mAttributeError\u001b[0m: 'Thread' object has no attribute 'isAlive'"
     ]
    }
   ],
   "source": [
    "import threading\n",
    "import time\n",
    "\n",
    "def my_function():\n",
    "    time.sleep(2)\n",
    "\n",
    "thread = threading.Thread(target=my_function)\n",
    "thread.start()\n",
    "\n",
    "print(\"Thread is alive:\", thread.isAlive())\n",
    "time.sleep(3)\n",
    "print(\"Thread is alive:\", thread.isAlive())\n"
   ]
  },
  {
   "cell_type": "code",
   "execution_count": null,
   "id": "b8f73a27-5a44-413e-934b-835db675dcf3",
   "metadata": {},
   "outputs": [],
   "source": []
  }
 ],
 "metadata": {
  "kernelspec": {
   "display_name": "Python 3 (ipykernel)",
   "language": "python",
   "name": "python3"
  },
  "language_info": {
   "codemirror_mode": {
    "name": "ipython",
    "version": 3
   },
   "file_extension": ".py",
   "mimetype": "text/x-python",
   "name": "python",
   "nbconvert_exporter": "python",
   "pygments_lexer": "ipython3",
   "version": "3.10.8"
  }
 },
 "nbformat": 4,
 "nbformat_minor": 5
}
